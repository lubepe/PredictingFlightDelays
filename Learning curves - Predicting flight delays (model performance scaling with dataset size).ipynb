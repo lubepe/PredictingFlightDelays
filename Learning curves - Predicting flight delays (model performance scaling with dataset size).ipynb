{
 "cells": [
  {
   "cell_type": "markdown",
   "metadata": {},
   "source": [
    "# Learning curves - Predicting flight delays \n",
    "### *Does model performance scales with datasetsize?*\n",
    "\n",
    "\n",
    "\n",
    "The objective of this test is to evaluate whether we have enough data to achieve a sufficient estimate of model performance, or even, if we need all the 5 million training samples. \n",
    "This test will be performed by ploting the learning curves of a Random Forest model's performance (without tuning) as a function of the *train_bin_airport* training set size (cleaned training set with all outliers and some feature selection). RMSE will be used as scoring.\n",
    "\n",
    "----\n",
    "\n",
    "train_bin_airport features:             \n",
    "'ARR_DELAY_NEW' (target),                 \n",
    "'DEP_DELAY_NEW',                 \n",
    "'MONTH',                     \n",
    "'DAY_OF_MONTH',                \n",
    "'DAY_OF_WEEK',                   \n",
    "'OP_CARRIER' (dummy variable),                  \n",
    "'AIRP_ORIGIN' (dummy variable binned),               \n",
    "'AIRP_DEST' (dummy variable binned),               \n",
    "'HOUR_SCHEDULED_DEP',                    \n",
    "'HOUR_SCHEDULED_ARR',                    \n",
    "'CRS_ELAPSED_TIME',                    \n",
    "'DISTANCE'                          \n",
    "\n",
    "---\n",
    "---"
   ]
  },
  {
   "cell_type": "code",
   "execution_count": 1,
   "metadata": {},
   "outputs": [],
   "source": [
    "import numpy as np\n",
    "import pandas as pd\n",
    "import matplotlib.pyplot as plt\n",
    "import seaborn as sns\n",
    "\n",
    "%matplotlib inline\n",
    "pd.options.display.max_columns = None\n",
    "pd.options.display.max_rows = None\n",
    "\n",
    "from sklearn.model_selection import cross_val_score\n",
    "from sklearn.ensemble import RandomForestRegressor\n",
    "from sklearn.model_selection import learning_curve\n",
    "from sklearn.model_selection import ShuffleSplit"
   ]
  },
  {
   "cell_type": "code",
   "execution_count": 2,
   "metadata": {},
   "outputs": [
    {
     "data": {
      "text/plain": [
       "((5113042, 36), (1704348, 36), (5113042, 1))"
      ]
     },
     "execution_count": 2,
     "metadata": {},
     "output_type": "execute_result"
    }
   ],
   "source": [
    "train_bin_airport = pd.read_csv('train_bin_airport.csv')\n",
    "test_bin_airport = pd.read_csv('test_bin_airport.csv')\n",
    "target_bin_airport = pd.read_csv('target_bin_airport.csv')\n",
    "\n",
    "train_bin_airport.shape, test_bin_airport.shape, target_bin_airport.shape"
   ]
  },
  {
   "cell_type": "code",
   "execution_count": 3,
   "metadata": {},
   "outputs": [
    {
     "data": {
      "text/plain": [
       "((5113042, 36), (5113042,))"
      ]
     },
     "execution_count": 3,
     "metadata": {},
     "output_type": "execute_result"
    }
   ],
   "source": [
    "X_train = train_bin_airport.copy()\n",
    "y_train = target_bin_airport['ARR_DELAY_NEW'].copy()\n",
    "\n",
    "X_train.shape, y_train.shape"
   ]
  },
  {
   "cell_type": "code",
   "execution_count": 19,
   "metadata": {},
   "outputs": [],
   "source": [
    "def plot_learning_curve(regressor, title, X_train, y_train, cv=None, score=None, n_jobs=None,\n",
    "                        train_sizes=np.linspace(0.001, 1.0, 10)):\n",
    "\n",
    "    train_sizes, train_scores, test_scores = learning_curve(regressor, X_train, y_train, cv=cv, scoring=score, n_jobs=n_jobs,\n",
    "                                                            train_sizes=train_sizes)\n",
    "    train_scores_rmse = np.sqrt(-train_scores)\n",
    "    train_scores_mean = np.mean(train_scores_rmse, axis=1)\n",
    "    train_scores_std = np.std(train_scores_rmse, axis=1)\n",
    "        \n",
    "    test_scores_rmse = np.sqrt(-test_scores)\n",
    "    test_scores_mean = np.mean(test_scores_rmse, axis=1)\n",
    "    test_scores_std = np.std(test_scores_rmse, axis=1)\n",
    "    \n",
    "        \n",
    "    plt.figure(figsize=(8,5))\n",
    "    plt.title(title)\n",
    "    plt.xlabel(\"Training examples/size\")\n",
    "    plt.ylabel(\"RMSE\")\n",
    "    plt.grid()\n",
    "\n",
    "    plt.fill_between(train_sizes, train_scores_mean - train_scores_std,\n",
    "                     train_scores_mean + train_scores_std, alpha=0.1,\n",
    "                     color=\"r\")\n",
    "    plt.fill_between(train_sizes, test_scores_mean - test_scores_std,\n",
    "                     test_scores_mean + test_scores_std, alpha=0.1, color=\"g\")\n",
    "    \n",
    "    plt.plot(train_sizes, train_scores_mean, 'o-', color=\"r\", label=\"Training set\")\n",
    "    plt.plot(train_sizes, test_scores_mean, 'o-', color=\"g\", label=\"Cross-validation set\")\n",
    "\n",
    "    plt.legend(loc=\"best\")\n",
    "    return plt"
   ]
  },
  {
   "cell_type": "code",
   "execution_count": 20,
   "metadata": {},
   "outputs": [
    {
     "data": {
      "text/plain": [
       "<module 'matplotlib.pyplot' from 'C:\\\\Users\\\\Lu\\\\Anaconda3\\\\lib\\\\site-packages\\\\matplotlib\\\\pyplot.py'>"
      ]
     },
     "execution_count": 20,
     "metadata": {},
     "output_type": "execute_result"
    },
    {
     "data": {
      "image/png": "[encoded data removed]",
      "text/plain": [
       "<Figure size 576x360 with 1 Axes>"
      ]
     },
     "metadata": {},
     "output_type": "display_data"
    }
   ],
   "source": [
    "# Cross validation with 10 iterations to get mean test and train\n",
    "# score curves, each time with 20% data randomly selected as a validation set.\n",
    "cv = ShuffleSplit(n_splits=10, test_size=0.2, random_state=87)\n",
    "title = \"Learning Curves (Random Forest)\"\n",
    "\n",
    "regressor = RandomForestRegressor()\n",
    "plot_learning_curve(regressor, title, X_train, y_train, cv=cv, score='neg_mean_squared_error', n_jobs=4)"
   ]
  },
  {
   "cell_type": "code",
   "execution_count": null,
   "metadata": {},
   "outputs": [],
   "source": []
  }
 ],
 "metadata": {
  "kernelspec": {
   "display_name": "Python 3",
   "language": "python",
   "name": "python3"
  },
  "language_info": {
   "codemirror_mode": {
    "name": "ipython",
    "version": 3
   },
   "file_extension": ".py",
   "mimetype": "text/x-python",
   "name": "python",
   "nbconvert_exporter": "python",
   "pygments_lexer": "ipython3",
   "version": "3.6.5"
  }
 },
 "nbformat": 4,
 "nbformat_minor": 2
}
